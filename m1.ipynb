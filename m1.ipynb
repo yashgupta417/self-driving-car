{
 "cells": [
  {
   "cell_type": "code",
   "execution_count": 1,
   "metadata": {},
   "outputs": [],
   "source": [
    "import numpy as np\n",
    "import pandas as pd"
   ]
  },
  {
   "cell_type": "code",
   "execution_count": 2,
   "metadata": {},
   "outputs": [],
   "source": [
    "X=[]\n",
    "Y=[]\n",
    "lines=[]\n",
    "with open('C://Users//HP//Desktop//ML//Self-Driving-Car//driving_dataset//data.txt') as file:\n",
    "    lines=file.readlines()\n",
    "    \n",
    "for line in lines:\n",
    "    w=line.split()\n",
    "    X.append(w[0])\n",
    "    Y.append(float(w[1]))\n",
    "        "
   ]
  },
  {
   "cell_type": "code",
   "execution_count": 3,
   "metadata": {},
   "outputs": [
    {
     "data": {
      "text/plain": [
       "'C://Users//HP//Desktop//ML//Self-Driving-Car//driving_dataset//4.jpg'"
      ]
     },
     "execution_count": 3,
     "metadata": {},
     "output_type": "execute_result"
    }
   ],
   "source": [
    "for i,x in enumerate(X):\n",
    "    X[i]='C://Users//HP//Desktop//ML//Self-Driving-Car//driving_dataset//'+X[i]\n",
    "    \n",
    "X[4]"
   ]
  },
  {
   "cell_type": "code",
   "execution_count": 4,
   "metadata": {},
   "outputs": [
    {
     "name": "stdout",
     "output_type": "stream",
     "text": [
      "0.024609142453120045\n"
     ]
    }
   ],
   "source": [
    "import math\n",
    "\n",
    "for i,y in enumerate(Y):\n",
    "    Y[i]=(y*math.pi)/180\n",
    "    \n",
    "print(Y[89])"
   ]
  },
  {
   "cell_type": "code",
   "execution_count": 5,
   "metadata": {},
   "outputs": [
    {
     "data": {
      "text/plain": [
       "<Figure size 640x480 with 1 Axes>"
      ]
     },
     "metadata": {},
     "output_type": "display_data"
    }
   ],
   "source": [
    "import matplotlib.pyplot as plt\n",
    "\n",
    "counts,bin_edges=np.histogram(Y,bins=100,density=True)\n",
    "pdf=counts/sum(counts)\n",
    "plt.plot(bin_edges[1:],pdf)\n",
    "plt.show()"
   ]
  },
  {
   "cell_type": "code",
   "execution_count": 6,
   "metadata": {},
   "outputs": [],
   "source": [
    "import keras\n",
    "import cv2\n",
    "\n",
    "class Generator(keras.utils.Sequence):\n",
    "    \n",
    "    def __init__(self,X,Y,batch_size):\n",
    "        self.X=X\n",
    "        self.Y=Y\n",
    "        self.batch_size=batch_size\n",
    "        \n",
    "    def __len__(self):\n",
    "        return int(np.ceil(len(self.X)/batch_size))\n",
    "    \n",
    "    def __getitem__(self,idx):\n",
    "        batch_x=self.X[idx*self.batch_size : (idx+1)*self.batch_size]\n",
    "        batch_y=self.Y[idx*self.batch_size : (idx+1)*self.batch_size]\n",
    "        \n",
    "        x_vec=[]\n",
    "        for img in batch_x:\n",
    "            x_vec.append(cv2.imread(img))\n",
    "            \n",
    "        return np.array(x_vec),np.array(batch_y)"
   ]
  },
  {
   "cell_type": "code",
   "execution_count": 7,
   "metadata": {},
   "outputs": [],
   "source": [
    "from keras.models import Sequential\n",
    "from keras.layers import Dense,Flatten\n",
    "from keras.layers.convolutional import Conv2D,MaxPooling2D\n",
    "\n",
    "width=256\n",
    "height=455\n",
    "channels=3\n",
    "batch_size=256\n",
    "epochs=30\n",
    "model=Sequential()\n",
    "\n",
    "#Conv Layer-1\n",
    "model.add(Conv2D(50,kernel_size=5,input_shape=(width,height,channels),\n",
    "                 data_format='channels_last',padding='same'\n",
    "                 ,activation='relu'))\n",
    "\n",
    "#Max Pool Layer-1\n",
    "model.add(MaxPooling2D(pool_size=(2,2),strides=(2,2)))\n",
    "\n",
    "#Conv Layer-2\n",
    "model.add(Conv2D(50,kernel_size=5,activation='relu'))\n",
    "\n",
    "#Max Pool Layer-2\n",
    "model.add(MaxPooling2D(pool_size=(2,2),strides=(2,2)))\n",
    "\n",
    "#Conv Layer-3\n",
    "model.add(Conv2D(100,kernel_size=5,activation='relu'))\n",
    "model.add(Flatten())\n",
    "\n",
    "# The Output Layer :\n",
    "model.add(Dense(1, kernel_initializer='normal',activation='linear'))\n",
    "\n"
   ]
  },
  {
   "cell_type": "code",
   "execution_count": 8,
   "metadata": {},
   "outputs": [
    {
     "name": "stdout",
     "output_type": "stream",
     "text": [
      "Model: \"sequential\"\n",
      "_________________________________________________________________\n",
      "Layer (type)                 Output Shape              Param #   \n",
      "=================================================================\n",
      "conv2d (Conv2D)              (None, 256, 455, 50)      3800      \n",
      "_________________________________________________________________\n",
      "max_pooling2d (MaxPooling2D) (None, 128, 227, 50)      0         \n",
      "_________________________________________________________________\n",
      "conv2d_1 (Conv2D)            (None, 124, 223, 50)      62550     \n",
      "_________________________________________________________________\n",
      "max_pooling2d_1 (MaxPooling2 (None, 62, 111, 50)       0         \n",
      "_________________________________________________________________\n",
      "conv2d_2 (Conv2D)            (None, 58, 107, 100)      125100    \n",
      "_________________________________________________________________\n",
      "flatten (Flatten)            (None, 620600)            0         \n",
      "_________________________________________________________________\n",
      "dense (Dense)                (None, 1)                 620601    \n",
      "=================================================================\n",
      "Total params: 812,051\n",
      "Trainable params: 812,051\n",
      "Non-trainable params: 0\n",
      "_________________________________________________________________\n"
     ]
    }
   ],
   "source": [
    "# Compile the network :\n",
    "model.compile(loss='mean_absolute_error', optimizer='adam', metrics=['mean_absolute_error'])\n",
    "model.summary()"
   ]
  },
  {
   "cell_type": "code",
   "execution_count": 9,
   "metadata": {},
   "outputs": [
    {
     "name": "stdout",
     "output_type": "stream",
     "text": [
      "train: 800 800\n",
      "val: 200 200\n"
     ]
    }
   ],
   "source": [
    "\n",
    "X_train=X[0:800]\n",
    "X_val=X[800:1000]\n",
    "Y_train=Y[0:800]\n",
    "Y_val=Y[800:1000]\n",
    "\n",
    "print(\"train:\",len(X_train),len(Y_train))\n",
    "print(\"val:\",len(X_val),len(Y_val))"
   ]
  },
  {
   "cell_type": "code",
   "execution_count": 10,
   "metadata": {},
   "outputs": [
    {
     "data": {
      "text/plain": [
       "6.206562487740743"
      ]
     },
     "execution_count": 10,
     "metadata": {},
     "output_type": "execute_result"
    }
   ],
   "source": [
    "from sklearn.metrics import mean_squared_error\n",
    "\n",
    "z=[0]*len(Y_val)\n",
    "mean_squared_error(Y_val, z)"
   ]
  },
  {
   "cell_type": "code",
   "execution_count": 30,
   "metadata": {},
   "outputs": [
    {
     "name": "stdout",
     "output_type": "stream",
     "text": [
      "Epoch 1/10\n",
      "25/25 [==============================] - 207s 8s/step - loss: 102.3934 - mean_absolute_error: 102.3934 - val_loss: 2.9908 - val_mean_absolute_error: 2.9908\n",
      "Epoch 2/10\n",
      "25/25 [==============================] - 204s 8s/step - loss: 0.9069 - mean_absolute_error: 0.9069 - val_loss: 2.1242 - val_mean_absolute_error: 2.1242\n",
      "Epoch 3/10\n",
      "25/25 [==============================] - 205s 8s/step - loss: 0.8217 - mean_absolute_error: 0.8217 - val_loss: 1.9882 - val_mean_absolute_error: 1.9882\n",
      "Epoch 4/10\n",
      "25/25 [==============================] - 204s 8s/step - loss: 0.7702 - mean_absolute_error: 0.7702 - val_loss: 1.9801 - val_mean_absolute_error: 1.9801\n",
      "Epoch 5/10\n",
      "25/25 [==============================] - 204s 8s/step - loss: 0.7527 - mean_absolute_error: 0.7527 - val_loss: 1.8902 - val_mean_absolute_error: 1.8902\n",
      "Epoch 6/10\n",
      "25/25 [==============================] - 202s 8s/step - loss: 0.7723 - mean_absolute_error: 0.7723 - val_loss: 2.0307 - val_mean_absolute_error: 2.0307\n",
      "Epoch 7/10\n",
      "25/25 [==============================] - 203s 8s/step - loss: 0.7612 - mean_absolute_error: 0.7612 - val_loss: 1.9324 - val_mean_absolute_error: 1.9324\n",
      "Epoch 8/10\n",
      "25/25 [==============================] - 210s 8s/step - loss: 0.7456 - mean_absolute_error: 0.7456 - val_loss: 1.9964 - val_mean_absolute_error: 1.9964\n",
      "Epoch 9/10\n",
      "25/25 [==============================] - 246s 10s/step - loss: 0.7596 - mean_absolute_error: 0.7596 - val_loss: 1.9025 - val_mean_absolute_error: 1.9025\n",
      "Epoch 10/10\n",
      "25/25 [==============================] - 210s 8s/step - loss: 0.7360 - mean_absolute_error: 0.7360 - val_loss: 2.1145 - val_mean_absolute_error: 2.1145\n"
     ]
    },
    {
     "data": {
      "text/plain": [
       "<tensorflow.python.keras.callbacks.History at 0x21005447668>"
      ]
     },
     "execution_count": 30,
     "metadata": {},
     "output_type": "execute_result"
    }
   ],
   "source": [
    "batch_size = 32\n",
    "\n",
    "training_batch_generator =Generator(X_train, Y_train, batch_size)\n",
    "validation_batch_generator =Generator(X_val, Y_val, batch_size)\n",
    "\n",
    "model.fit(training_batch_generator,\n",
    "            steps_per_epoch=int(len(X_train)//batch_size),\n",
    "            epochs = 10,\n",
    "            verbose=1,\n",
    "            workers=100,\n",
    "            validation_data=validation_batch_generator,\n",
    "            validation_steps=int(len(X_val)//batch_size))"
   ]
  },
  {
   "cell_type": "code",
   "execution_count": 11,
   "metadata": {},
   "outputs": [],
   "source": [
    "#model.save('m1.h5')\n",
    "from keras.models import load_model \n",
    "model = load_model(\"m1.h5\") "
   ]
  },
  {
   "cell_type": "code",
   "execution_count": 12,
   "metadata": {},
   "outputs": [],
   "source": [
    "import numpy as np\n",
    "import cv2\n",
    "\n",
    "def rotate_image(img, smoothed_angle, degrees):\n",
    "    rows,cols,_ = img.shape\n",
    "    smoothed_angle += 0.2 * pow(abs((degrees - smoothed_angle)), 2.0 / 3.0) * (degrees - smoothed_angle) / abs(degrees - smoothed_angle)\n",
    "    M = cv2.getRotationMatrix2D((cols/2,rows/2),-smoothed_angle,1)\n",
    "    dst = cv2.warpAffine(img,M,(cols,rows))\n",
    "    \n",
    "    return dst, smoothed_angle"
   ]
  },
  {
   "cell_type": "code",
   "execution_count": 14,
   "metadata": {},
   "outputs": [
    {
     "ename": "ZeroDivisionError",
     "evalue": "float division by zero",
     "output_type": "error",
     "traceback": [
      "\u001b[1;31m---------------------------------------------------------------------------\u001b[0m",
      "\u001b[1;31mZeroDivisionError\u001b[0m                         Traceback (most recent call last)",
      "\u001b[1;32m<ipython-input-14-cca8359a67c6>\u001b[0m in \u001b[0;36m<module>\u001b[1;34m\u001b[0m\n\u001b[0;32m     21\u001b[0m \u001b[1;31m#     s=s.encode()\u001b[0m\u001b[1;33m\u001b[0m\u001b[1;33m\u001b[0m\u001b[1;33m\u001b[0m\u001b[0m\n\u001b[0;32m     22\u001b[0m \u001b[1;31m#     os.write(1,s)\u001b[0m\u001b[1;33m\u001b[0m\u001b[1;33m\u001b[0m\u001b[1;33m\u001b[0m\u001b[0m\n\u001b[1;32m---> 23\u001b[1;33m     \u001b[0mw2\u001b[0m\u001b[1;33m,\u001b[0m\u001b[0msmoothed_angle_actual\u001b[0m\u001b[1;33m=\u001b[0m\u001b[0mrotate_image\u001b[0m\u001b[1;33m(\u001b[0m\u001b[0mwheel\u001b[0m\u001b[1;33m,\u001b[0m\u001b[0msmoothed_angle_actual\u001b[0m\u001b[1;33m,\u001b[0m\u001b[0mdeg2\u001b[0m\u001b[1;33m)\u001b[0m\u001b[1;33m\u001b[0m\u001b[1;33m\u001b[0m\u001b[0m\n\u001b[0m\u001b[0;32m     24\u001b[0m     \u001b[0mcv2\u001b[0m\u001b[1;33m.\u001b[0m\u001b[0mimshow\u001b[0m\u001b[1;33m(\u001b[0m\u001b[1;34m'Actual'\u001b[0m\u001b[1;33m,\u001b[0m\u001b[0mw2\u001b[0m\u001b[1;33m)\u001b[0m\u001b[1;33m\u001b[0m\u001b[1;33m\u001b[0m\u001b[0m\n\u001b[0;32m     25\u001b[0m \u001b[1;33m\u001b[0m\u001b[0m\n",
      "\u001b[1;32m<ipython-input-12-70b0efbfcd7d>\u001b[0m in \u001b[0;36mrotate_image\u001b[1;34m(img, smoothed_angle, degrees)\u001b[0m\n\u001b[0;32m      4\u001b[0m \u001b[1;32mdef\u001b[0m \u001b[0mrotate_image\u001b[0m\u001b[1;33m(\u001b[0m\u001b[0mimg\u001b[0m\u001b[1;33m,\u001b[0m \u001b[0msmoothed_angle\u001b[0m\u001b[1;33m,\u001b[0m \u001b[0mdegrees\u001b[0m\u001b[1;33m)\u001b[0m\u001b[1;33m:\u001b[0m\u001b[1;33m\u001b[0m\u001b[1;33m\u001b[0m\u001b[0m\n\u001b[0;32m      5\u001b[0m     \u001b[0mrows\u001b[0m\u001b[1;33m,\u001b[0m\u001b[0mcols\u001b[0m\u001b[1;33m,\u001b[0m\u001b[0m_\u001b[0m \u001b[1;33m=\u001b[0m \u001b[0mimg\u001b[0m\u001b[1;33m.\u001b[0m\u001b[0mshape\u001b[0m\u001b[1;33m\u001b[0m\u001b[1;33m\u001b[0m\u001b[0m\n\u001b[1;32m----> 6\u001b[1;33m     \u001b[0msmoothed_angle\u001b[0m \u001b[1;33m+=\u001b[0m \u001b[1;36m0.2\u001b[0m \u001b[1;33m*\u001b[0m \u001b[0mpow\u001b[0m\u001b[1;33m(\u001b[0m\u001b[0mabs\u001b[0m\u001b[1;33m(\u001b[0m\u001b[1;33m(\u001b[0m\u001b[0mdegrees\u001b[0m \u001b[1;33m-\u001b[0m \u001b[0msmoothed_angle\u001b[0m\u001b[1;33m)\u001b[0m\u001b[1;33m)\u001b[0m\u001b[1;33m,\u001b[0m \u001b[1;36m2.0\u001b[0m \u001b[1;33m/\u001b[0m \u001b[1;36m3.0\u001b[0m\u001b[1;33m)\u001b[0m \u001b[1;33m*\u001b[0m \u001b[1;33m(\u001b[0m\u001b[0mdegrees\u001b[0m \u001b[1;33m-\u001b[0m \u001b[0msmoothed_angle\u001b[0m\u001b[1;33m)\u001b[0m \u001b[1;33m/\u001b[0m \u001b[0mabs\u001b[0m\u001b[1;33m(\u001b[0m\u001b[0mdegrees\u001b[0m \u001b[1;33m-\u001b[0m \u001b[0msmoothed_angle\u001b[0m\u001b[1;33m)\u001b[0m\u001b[1;33m\u001b[0m\u001b[1;33m\u001b[0m\u001b[0m\n\u001b[0m\u001b[0;32m      7\u001b[0m     \u001b[0mM\u001b[0m \u001b[1;33m=\u001b[0m \u001b[0mcv2\u001b[0m\u001b[1;33m.\u001b[0m\u001b[0mgetRotationMatrix2D\u001b[0m\u001b[1;33m(\u001b[0m\u001b[1;33m(\u001b[0m\u001b[0mcols\u001b[0m\u001b[1;33m/\u001b[0m\u001b[1;36m2\u001b[0m\u001b[1;33m,\u001b[0m\u001b[0mrows\u001b[0m\u001b[1;33m/\u001b[0m\u001b[1;36m2\u001b[0m\u001b[1;33m)\u001b[0m\u001b[1;33m,\u001b[0m\u001b[1;33m-\u001b[0m\u001b[0msmoothed_angle\u001b[0m\u001b[1;33m,\u001b[0m\u001b[1;36m1\u001b[0m\u001b[1;33m)\u001b[0m\u001b[1;33m\u001b[0m\u001b[1;33m\u001b[0m\u001b[0m\n\u001b[0;32m      8\u001b[0m     \u001b[0mdst\u001b[0m \u001b[1;33m=\u001b[0m \u001b[0mcv2\u001b[0m\u001b[1;33m.\u001b[0m\u001b[0mwarpAffine\u001b[0m\u001b[1;33m(\u001b[0m\u001b[0mimg\u001b[0m\u001b[1;33m,\u001b[0m\u001b[0mM\u001b[0m\u001b[1;33m,\u001b[0m\u001b[1;33m(\u001b[0m\u001b[0mcols\u001b[0m\u001b[1;33m,\u001b[0m\u001b[0mrows\u001b[0m\u001b[1;33m)\u001b[0m\u001b[1;33m)\u001b[0m\u001b[1;33m\u001b[0m\u001b[1;33m\u001b[0m\u001b[0m\n",
      "\u001b[1;31mZeroDivisionError\u001b[0m: float division by zero"
     ]
    }
   ],
   "source": [
    "X_val=X[35000:]\n",
    "Y_val=Y[35000:]\n",
    "i=0\n",
    "import os\n",
    "wheel=cv2.imread('C://Users//HP//Desktop//ML//Self-Driving-Car//wheel-4.jpg')\n",
    "smoothed_angle=0\n",
    "smoothed_angle_actual=0\n",
    "for x in X_val:\n",
    "    img=cv2.imread(x)\n",
    "    cv2.imshow('frame',img)\n",
    "    \n",
    "    rad=model.predict(np.array([img]))[0][0]\n",
    "    deg=(rad*180)/(math.pi)\n",
    "    \n",
    "    w,smoothed_angle=rotate_image(wheel,smoothed_angle,deg)\n",
    "    cv2.imshow('Prediction',w)\n",
    "    \n",
    "    deg2=(Y_val[i]*180)/(math.pi)\n",
    "    \n",
    "#     s=\"Prediction: \"+str(deg)+\" Actual: \"+str(deg2)+\"\\n\"\n",
    "#     s=s.encode()\n",
    "#     os.write(1,s)\n",
    "    w2,smoothed_angle_actual=rotate_image(wheel,smoothed_angle_actual,deg2)\n",
    "    cv2.imshow('Actual',w2)\n",
    "    \n",
    "    i+=1;\n",
    "    \n",
    "    \n",
    "    if cv2.waitKey(1) & 0xFF == ord('q'):\n",
    "        break\n",
    "    \n",
    "cv2.destroyAllWindows()"
   ]
  },
  {
   "cell_type": "code",
   "execution_count": 14,
   "metadata": {},
   "outputs": [
    {
     "data": {
      "text/plain": [
       "(400, 400, 3)"
      ]
     },
     "execution_count": 14,
     "metadata": {},
     "output_type": "execute_result"
    }
   ],
   "source": [
    "wheel.shape"
   ]
  },
  {
   "cell_type": "code",
   "execution_count": null,
   "metadata": {},
   "outputs": [],
   "source": []
  }
 ],
 "metadata": {
  "kernelspec": {
   "display_name": "Python 3",
   "language": "python",
   "name": "python3"
  },
  "language_info": {
   "codemirror_mode": {
    "name": "ipython",
    "version": 3
   },
   "file_extension": ".py",
   "mimetype": "text/x-python",
   "name": "python",
   "nbconvert_exporter": "python",
   "pygments_lexer": "ipython3",
   "version": "3.7.3"
  }
 },
 "nbformat": 4,
 "nbformat_minor": 2
}
