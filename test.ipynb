{
  "nbformat": 4,
  "nbformat_minor": 0,
  "metadata": {
    "kernelspec": {
      "display_name": "Python 3",
      "language": "python",
      "name": "python3"
    },
    "language_info": {
      "codemirror_mode": {
        "name": "ipython",
        "version": 3
      },
      "file_extension": ".py",
      "mimetype": "text/x-python",
      "name": "python",
      "nbconvert_exporter": "python",
      "pygments_lexer": "ipython3",
      "version": "3.7.3"
    },
    "colab": {
      "name": "test.ipynb",
      "provenance": []
    }
  },
  "cells": [
    {
      "cell_type": "code",
      "metadata": {
        "id": "sF286FfoFqvJ"
      },
      "source": [
        "import numpy as np\n",
        "import pandas as pd"
      ],
      "execution_count": 24,
      "outputs": []
    },
    {
      "cell_type": "code",
      "metadata": {
        "id": "3DCBPt4UF7se",
        "outputId": "de74540e-9133-47ad-fd23-38a235efb814",
        "colab": {
          "base_uri": "https://localhost:8080/",
          "height": 34
        }
      },
      "source": [
        "from google.colab import drive\n",
        "drive.mount('/content/drive/')"
      ],
      "execution_count": 25,
      "outputs": [
        {
          "output_type": "stream",
          "text": [
            "Drive already mounted at /content/drive/; to attempt to forcibly remount, call drive.mount(\"/content/drive/\", force_remount=True).\n"
          ],
          "name": "stdout"
        }
      ]
    },
    {
      "cell_type": "code",
      "metadata": {
        "id": "Hpec-7_IFqvS"
      },
      "source": [
        "X=[]\n",
        "Y=[]\n",
        "lines=[]\n",
        "\n",
        "data_path='/content/drive/My Drive/Self-driving-car-dataset/data.txt'\n",
        "\n",
        "images_path='/content/drive/My Drive/Self-driving-car-dataset/images/'\n",
        "\n",
        "with open(data_path) as file:\n",
        "    lines=file.readlines()\n",
        "    \n",
        "\n",
        "for line in lines:\n",
        "    w=line.split()\n",
        "    X.append(w[0])\n",
        "    Y.append(float(w[1]))"
      ],
      "execution_count": 26,
      "outputs": []
    },
    {
      "cell_type": "code",
      "metadata": {
        "id": "cqeIDmrcFqvX",
        "outputId": "b7afdc87-5dbe-4f2e-fb85-67f08ae6858b",
        "colab": {
          "base_uri": "https://localhost:8080/",
          "height": 35
        }
      },
      "source": [
        "for i,x in enumerate(X):\n",
        "    X[i]=images_path+X[i]\n",
        "    \n",
        "X[4]"
      ],
      "execution_count": 27,
      "outputs": [
        {
          "output_type": "execute_result",
          "data": {
            "application/vnd.google.colaboratory.intrinsic+json": {
              "type": "string"
            },
            "text/plain": [
              "'/content/drive/My Drive/Self-driving-car-dataset/images/4.jpg'"
            ]
          },
          "metadata": {
            "tags": []
          },
          "execution_count": 27
        }
      ]
    },
    {
      "cell_type": "code",
      "metadata": {
        "id": "KpFF5-NrFqvc",
        "outputId": "22853003-dad2-4581-b09e-3dc4e64c94af",
        "colab": {
          "base_uri": "https://localhost:8080/",
          "height": 34
        }
      },
      "source": [
        "import math\n",
        "\n",
        "for i,y in enumerate(Y):\n",
        "    Y[i]=(y*math.pi)/180\n",
        "    \n",
        "print(Y[89])"
      ],
      "execution_count": 28,
      "outputs": [
        {
          "output_type": "stream",
          "text": [
            "0.024609142453120045\n"
          ],
          "name": "stdout"
        }
      ]
    },
    {
      "cell_type": "code",
      "metadata": {
        "id": "go3IX8UZFqvf",
        "outputId": "89cbcf24-df92-4ea2-e536-2c1cb98aeba8",
        "colab": {
          "base_uri": "https://localhost:8080/",
          "height": 50
        }
      },
      "source": [
        "split=int(.8*len(X))\n",
        "X_train=X[0:split]\n",
        "X_val=X[split:]\n",
        "Y_train=Y[0:split]\n",
        "Y_val=Y[split:]\n",
        "\n",
        "print(\"train:\",len(X_train),len(Y_train))\n",
        "print(\"val:\",len(X_val),len(Y_val))"
      ],
      "execution_count": 29,
      "outputs": [
        {
          "output_type": "stream",
          "text": [
            "train: 36324 36324\n",
            "val: 9082 9082\n"
          ],
          "name": "stdout"
        }
      ]
    },
    {
      "cell_type": "code",
      "metadata": {
        "id": "6L60hqx3Fqvj",
        "outputId": "32be3f10-cd0a-4adf-b2e3-30a0a577d0cf",
        "colab": {
          "base_uri": "https://localhost:8080/",
          "height": 34
        }
      },
      "source": [
        "from sklearn.metrics import mean_squared_error\n",
        "\n",
        "z=[0]*len(Y_val)\n",
        "mean_squared_error(Y_val, z)"
      ],
      "execution_count": 30,
      "outputs": [
        {
          "output_type": "execute_result",
          "data": {
            "text/plain": [
              "0.19089104348993743"
            ]
          },
          "metadata": {
            "tags": []
          },
          "execution_count": 30
        }
      ]
    },
    {
      "cell_type": "code",
      "metadata": {
        "id": "nqjyA5SdFqvm"
      },
      "source": [
        "import numpy as np\n",
        "import cv2\n",
        "\n",
        "def rotate_image(img, smoothed_angle, degrees):\n",
        "    rows,cols,_ = img.shape\n",
        "    if smoothed_angle!=degrees:\n",
        "        smoothed_angle += 0.2 * pow(abs((degrees - smoothed_angle)), 2.0 / 3.0) * (degrees - smoothed_angle) / abs(degrees - smoothed_angle)\n",
        "    M = cv2.getRotationMatrix2D((cols/2,rows/2),-smoothed_angle,1)\n",
        "    dst = cv2.warpAffine(img,M,(cols,rows))\n",
        "    \n",
        "    return dst, smoothed_angle"
      ],
      "execution_count": 31,
      "outputs": []
    },
    {
      "cell_type": "code",
      "metadata": {
        "id": "weJWQ7DkFqvp",
        "outputId": "8ec6be71-3845-4ed8-dde5-9c8eb218d3b7",
        "colab": {
          "base_uri": "https://localhost:8080/",
          "height": 34
        }
      },
      "source": [
        "i=0\n",
        "import os\n",
        "wheel_path='/content/drive/My Drive/Self-driving-car-dataset/wheel-4.jpg'\n",
        "wheel=cv2.imread(wheel_path)\n",
        "smoothed_angle=0\n",
        "smoothed_angle_actual=0\n",
        "\n",
        "wheel.shape"
      ],
      "execution_count": 32,
      "outputs": [
        {
          "output_type": "execute_result",
          "data": {
            "text/plain": [
              "(240, 240, 3)"
            ]
          },
          "metadata": {
            "tags": []
          },
          "execution_count": 32
        }
      ]
    },
    {
      "cell_type": "code",
      "metadata": {
        "id": "mH73gzo3Fqvr"
      },
      "source": [
        "#model.save('m1.h5')\n",
        "# from keras.models import load_model \n",
        "import tensorflow.compat.v1 as tf\n",
        "model_path='/content/drive/My Drive/Self-driving-car-dataset/model.h5'\n",
        "model = tf.keras.models.load_model(model_path)"
      ],
      "execution_count": null,
      "outputs": []
    },
    {
      "cell_type": "code",
      "metadata": {
        "id": "EWGEQnwFFqvt",
        "outputId": "30f97f5e-e3c9-43cd-aba7-15faf438f919"
      },
      "source": [
        "\n",
        "for x in X_train:\n",
        "    img=cv2.imread(x)/255\n",
        "    cv2.imshow('frame',img)\n",
        "    \n",
        "    rad=model.predict(np.array([img]))[0][0]\n",
        "    deg=(rad*180)/(math.pi)\n",
        "    \n",
        "    w,smoothed_angle=rotate_image(wheel,smoothed_angle,deg)\n",
        "    cv2.imshow('Prediction',w)\n",
        "    \n",
        "    deg2=(Y_train[i]*180)/(math.pi)\n",
        "    \n",
        "#     s=\"Prediction: \"+str(deg)+\" Actual: \"+str(deg2)+\"\\n\"\n",
        "#     s=s.encode()\n",
        "#     os.write(1,s)\n",
        "    w2,smoothed_angle_actual=rotate_image(wheel,smoothed_angle_actual,deg2)\n",
        "    cv2.imshow('Actual',w2)\n",
        "    \n",
        "    i+=1;\n",
        "    \n",
        "    \n",
        "    if cv2.waitKey(1) & 0xFF == ord('q'):\n",
        "        break\n",
        "    \n",
        "cv2.destroyAllWindows()"
      ],
      "execution_count": null,
      "outputs": [
        {
          "output_type": "error",
          "ename": "IndexError",
          "evalue": "list index out of range",
          "traceback": [
            "\u001b[1;31m---------------------------------------------------------------------------\u001b[0m",
            "\u001b[1;31mIndexError\u001b[0m                                Traceback (most recent call last)",
            "\u001b[1;32m<ipython-input-11-d718a732bf99>\u001b[0m in \u001b[0;36m<module>\u001b[1;34m\u001b[0m\n\u001b[0;32m     10\u001b[0m     \u001b[0mcv2\u001b[0m\u001b[1;33m.\u001b[0m\u001b[0mimshow\u001b[0m\u001b[1;33m(\u001b[0m\u001b[1;34m'Prediction'\u001b[0m\u001b[1;33m,\u001b[0m\u001b[0mw\u001b[0m\u001b[1;33m)\u001b[0m\u001b[1;33m\u001b[0m\u001b[1;33m\u001b[0m\u001b[0m\n\u001b[0;32m     11\u001b[0m \u001b[1;33m\u001b[0m\u001b[0m\n\u001b[1;32m---> 12\u001b[1;33m     \u001b[0mdeg2\u001b[0m\u001b[1;33m=\u001b[0m\u001b[1;33m(\u001b[0m\u001b[0mY_train\u001b[0m\u001b[1;33m[\u001b[0m\u001b[0mi\u001b[0m\u001b[1;33m]\u001b[0m\u001b[1;33m*\u001b[0m\u001b[1;36m180\u001b[0m\u001b[1;33m)\u001b[0m\u001b[1;33m/\u001b[0m\u001b[1;33m(\u001b[0m\u001b[0mmath\u001b[0m\u001b[1;33m.\u001b[0m\u001b[0mpi\u001b[0m\u001b[1;33m)\u001b[0m\u001b[1;33m\u001b[0m\u001b[1;33m\u001b[0m\u001b[0m\n\u001b[0m\u001b[0;32m     13\u001b[0m \u001b[1;33m\u001b[0m\u001b[0m\n\u001b[0;32m     14\u001b[0m \u001b[1;31m#     s=\"Prediction: \"+str(deg)+\" Actual: \"+str(deg2)+\"\\n\"\u001b[0m\u001b[1;33m\u001b[0m\u001b[1;33m\u001b[0m\u001b[1;33m\u001b[0m\u001b[0m\n",
            "\u001b[1;31mIndexError\u001b[0m: list index out of range"
          ]
        }
      ]
    },
    {
      "cell_type": "code",
      "metadata": {
        "id": "o8VehTS8Fqvw"
      },
      "source": [
        ""
      ],
      "execution_count": null,
      "outputs": []
    }
  ]
}