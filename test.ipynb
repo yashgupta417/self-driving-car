{
 "cells": [
  {
   "cell_type": "code",
   "execution_count": 1,
   "metadata": {},
   "outputs": [],
   "source": [
    "import numpy as np\n",
    "import pandas as pd"
   ]
  },
  {
   "cell_type": "code",
   "execution_count": null,
   "metadata": {},
   "outputs": [],
   "source": [
    "X=[]\n",
    "Y=[]\n",
    "lines=[]\n",
    "with open('/content/drive/My Drive/Self-driving-car-dataset/data.txt') as file:\n",
    "    lines=file.readlines()\n",
    "    \n",
    "for line in lines:\n",
    "    w=line.split()\n",
    "    X.append(w[0])\n",
    "    Y.append(float(w[1]))"
   ]
  },
  {
   "cell_type": "code",
   "execution_count": null,
   "metadata": {},
   "outputs": [],
   "source": [
    "for i,x in enumerate(X):\n",
    "    X[i]='/content/drive/My Drive/Self-driving-car-dataset/'+X[i]\n",
    "    \n",
    "X[4]"
   ]
  },
  {
   "cell_type": "code",
   "execution_count": null,
   "metadata": {},
   "outputs": [],
   "source": [
    "import math\n",
    "\n",
    "for i,y in enumerate(Y):\n",
    "    Y[i]=(y*math.pi)/180\n",
    "    \n",
    "print(Y[89])"
   ]
  },
  {
   "cell_type": "code",
   "execution_count": null,
   "metadata": {},
   "outputs": [],
   "source": [
    "X_train=X[0:800]\n",
    "X_val=X[800:1000]\n",
    "Y_train=Y[0:800]\n",
    "Y_val=Y[800:1000]\n",
    "\n",
    "print(\"train:\",len(X_train),len(Y_train))\n",
    "print(\"val:\",len(X_val),len(Y_val))"
   ]
  },
  {
   "cell_type": "code",
   "execution_count": null,
   "metadata": {},
   "outputs": [],
   "source": [
    "from sklearn.metrics import mean_squared_error\n",
    "\n",
    "z=[0]*len(Y_val)\n",
    "mean_squared_error(Y_val, z)"
   ]
  },
  {
   "cell_type": "code",
   "execution_count": null,
   "metadata": {},
   "outputs": [],
   "source": [
    "import numpy as np\n",
    "import cv2\n",
    "\n",
    "def rotate_image(img, smoothed_angle, degrees):\n",
    "    rows,cols,_ = img.shape\n",
    "    smoothed_angle += 0.2 * pow(abs((degrees - smoothed_angle)), 2.0 / 3.0) * (degrees - smoothed_angle) / abs(degrees - smoothed_angle)\n",
    "    M = cv2.getRotationMatrix2D((cols/2,rows/2),-smoothed_angle,1)\n",
    "    dst = cv2.warpAffine(img,M,(cols,rows))\n",
    "    \n",
    "    return dst, smoothed_angle"
   ]
  },
  {
   "cell_type": "code",
   "execution_count": null,
   "metadata": {},
   "outputs": [],
   "source": [
    "X_val=X[35000:]\n",
    "Y_val=Y[35000:]\n",
    "i=0\n",
    "import os\n",
    "wheel=cv2.imread('C://Users//HP//Desktop//ML//Self-Driving-Car//wheel-4.jpg')\n",
    "smoothed_angle=0\n",
    "smoothed_angle_actual=0\n",
    "\n",
    "wheel.shape"
   ]
  },
  {
   "cell_type": "code",
   "execution_count": null,
   "metadata": {},
   "outputs": [],
   "source": [
    "#model.save('m1.h5')\n",
    "from keras.models import load_model \n",
    "model = load_model(\"m1.h5\")"
   ]
  },
  {
   "cell_type": "code",
   "execution_count": null,
   "metadata": {},
   "outputs": [],
   "source": [
    "\n",
    "for x in X_val:\n",
    "    img=cv2.imread(x)\n",
    "    cv2.imshow('frame',img)\n",
    "    \n",
    "    rad=model.predict(np.array([img]))[0][0]\n",
    "    deg=(rad*180)/(math.pi)\n",
    "    \n",
    "    w,smoothed_angle=rotate_image(wheel,smoothed_angle,deg)\n",
    "    cv2.imshow('Prediction',w)\n",
    "    \n",
    "    deg2=(Y_val[i]*180)/(math.pi)\n",
    "    \n",
    "#     s=\"Prediction: \"+str(deg)+\" Actual: \"+str(deg2)+\"\\n\"\n",
    "#     s=s.encode()\n",
    "#     os.write(1,s)\n",
    "    w2,smoothed_angle_actual=rotate_image(wheel,smoothed_angle_actual,deg2)\n",
    "    cv2.imshow('Actual',w2)\n",
    "    \n",
    "    i+=1;\n",
    "    \n",
    "    \n",
    "    if cv2.waitKey(1) & 0xFF == ord('q'):\n",
    "        break\n",
    "    \n",
    "cv2.destroyAllWindows()"
   ]
  }
 ],
 "metadata": {
  "kernelspec": {
   "display_name": "Python 3",
   "language": "python",
   "name": "python3"
  },
  "language_info": {
   "codemirror_mode": {
    "name": "ipython",
    "version": 3
   },
   "file_extension": ".py",
   "mimetype": "text/x-python",
   "name": "python",
   "nbconvert_exporter": "python",
   "pygments_lexer": "ipython3",
   "version": "3.7.3"
  }
 },
 "nbformat": 4,
 "nbformat_minor": 2
}
