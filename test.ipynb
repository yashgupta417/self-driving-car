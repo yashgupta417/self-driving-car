{
 "cells": [
  {
   "cell_type": "code",
   "execution_count": 1,
   "metadata": {
    "id": "sF286FfoFqvJ"
   },
   "outputs": [],
   "source": [
    "import numpy as np\n",
    "import pandas as pd"
   ]
  },
  {
   "cell_type": "code",
   "execution_count": 25,
   "metadata": {
    "colab": {
     "base_uri": "https://localhost:8080/",
     "height": 34
    },
    "id": "3DCBPt4UF7se",
    "outputId": "de74540e-9133-47ad-fd23-38a235efb814"
   },
   "outputs": [
    {
     "name": "stdout",
     "output_type": "stream",
     "text": [
      "Drive already mounted at /content/drive/; to attempt to forcibly remount, call drive.mount(\"/content/drive/\", force_remount=True).\n"
     ]
    }
   ],
   "source": [
    "from google.colab import drive\n",
    "drive.mount('/content/drive/')"
   ]
  },
  {
   "cell_type": "code",
   "execution_count": 8,
   "metadata": {
    "id": "Hpec-7_IFqvS"
   },
   "outputs": [],
   "source": [
    "X=[]\n",
    "Y=[]\n",
    "lines=[]\n",
    "\n",
    "\n",
    "#data_path='/content/drive/My Drive/Self-driving-car-dataset/data.txt'\n",
    "data_path='C:\\\\Users\\\\HP\\\\Desktop\\\\ML\\\\Self-Driving-Car\\\\driving_dataset\\\\data.txt'\n",
    "\n",
    "#images_path='/content/drive/My Drive/Self-driving-car-dataset/images/'\n",
    "images_path='C:\\\\Users\\\\HP\\\\Desktop\\\\ML\\\\Self-Driving-Car\\\\driving_dataset\\\\'\n",
    "\n",
    "with open(data_path) as file:\n",
    "    lines=file.readlines()\n",
    "    \n",
    "\n",
    "for line in lines:\n",
    "    w=line.split()\n",
    "    X.append(w[0])\n",
    "    Y.append(float(w[1]))"
   ]
  },
  {
   "cell_type": "code",
   "execution_count": 9,
   "metadata": {
    "colab": {
     "base_uri": "https://localhost:8080/",
     "height": 35
    },
    "id": "cqeIDmrcFqvX",
    "outputId": "b7afdc87-5dbe-4f2e-fb85-67f08ae6858b"
   },
   "outputs": [
    {
     "data": {
      "text/plain": [
       "'C:\\\\Users\\\\HP\\\\Desktop\\\\ML\\\\Self-Driving-Car\\\\driving_dataset\\\\4.jpg'"
      ]
     },
     "execution_count": 9,
     "metadata": {},
     "output_type": "execute_result"
    }
   ],
   "source": [
    "for i,x in enumerate(X):\n",
    "    X[i]=images_path+X[i]\n",
    "    \n",
    "X[4]"
   ]
  },
  {
   "cell_type": "code",
   "execution_count": 10,
   "metadata": {},
   "outputs": [
    {
     "name": "stdout",
     "output_type": "stream",
     "text": [
      "0.024609142453120045\n"
     ]
    }
   ],
   "source": [
    "import math\n",
    "\n",
    "for i,y in enumerate(Y):\n",
    "    Y[i]=(y*math.pi)/180\n",
    "    \n",
    "print(Y[89])"
   ]
  },
  {
   "cell_type": "code",
   "execution_count": 11,
   "metadata": {
    "id": "nqjyA5SdFqvm"
   },
   "outputs": [],
   "source": [
    "import numpy as np\n",
    "import cv2\n",
    "\n",
    "def rotate_image(img, smoothed_angle, degrees):\n",
    "    rows,cols,_ = img.shape\n",
    "    if smoothed_angle!=degrees:\n",
    "        smoothed_angle += 0.2 * pow(abs((degrees - smoothed_angle)), 2.0 / 3.0) * (degrees - smoothed_angle) / abs(degrees - smoothed_angle)\n",
    "    M = cv2.getRotationMatrix2D((cols/2,rows/2),-smoothed_angle,1)\n",
    "    dst = cv2.warpAffine(img,M,(cols,rows))\n",
    "    \n",
    "    return dst, smoothed_angle"
   ]
  },
  {
   "cell_type": "code",
   "execution_count": 12,
   "metadata": {
    "colab": {
     "base_uri": "https://localhost:8080/",
     "height": 34
    },
    "id": "weJWQ7DkFqvp",
    "outputId": "8ec6be71-3845-4ed8-dde5-9c8eb218d3b7"
   },
   "outputs": [
    {
     "data": {
      "text/plain": [
       "(240, 240, 3)"
      ]
     },
     "execution_count": 12,
     "metadata": {},
     "output_type": "execute_result"
    }
   ],
   "source": [
    "i=0\n",
    "import os\n",
    "#wheel_path='/content/drive/My Drive/Self-driving-car-dataset/wheel-4.jpg'\n",
    "wheel_path='C:\\\\Users\\\\HP\\\\Desktop\\\\ML\\\\Self-Driving-Car\\\\wheel-4.jpg'\n",
    "wheel=cv2.imread(wheel_path)\n",
    "smoothed_angle=0\n",
    "smoothed_angle_actual=0\n",
    "\n",
    "wheel.shape"
   ]
  },
  {
   "cell_type": "code",
   "execution_count": 13,
   "metadata": {
    "id": "mH73gzo3Fqvr"
   },
   "outputs": [],
   "source": [
    "#model.save('m1.h5')\n",
    "# from keras.models import load_model \n",
    "import tensorflow.compat.v1 as tf\n",
    "model_path='C:\\\\Users\\\\HP\\\\Desktop\\\\ML\\\\Self-Driving-Car\\\\model.h5'\n",
    "model = tf.keras.models.load_model(model_path,compile=False)"
   ]
  },
  {
   "cell_type": "code",
   "execution_count": null,
   "metadata": {
    "id": "EWGEQnwFFqvt",
    "outputId": "30f97f5e-e3c9-43cd-aba7-15faf438f919"
   },
   "outputs": [
    {
     "name": "stdout",
     "output_type": "stream",
     "text": [
      "WARNING:tensorflow:Model was constructed with shape (None, 200, 66, 3) for input Tensor(\"conv2d_5_input_1:0\", shape=(None, 200, 66, 3), dtype=float32), but it was called on an input with incompatible shape (None, 66, 200, 3).\n"
     ]
    }
   ],
   "source": [
    "i=0\n",
    "for x in X:\n",
    "    img=cv2.imread(x)\n",
    "    cropped_img=cv2.resize(img[-150:],(200,66))/255.0\n",
    "    cv2.imshow('frame',img)\n",
    "    \n",
    "    rad=model.predict(np.array([cropped_img]))[0][0]\n",
    "    \n",
    "    pred_deg=(rad*180)/(math.pi)\n",
    "    w,smoothed_angle=rotate_image(wheel,smoothed_angle,pred_deg)\n",
    "    cv2.imshow('Prediction',w)\n",
    "    \n",
    "    actual_deg=(Y[i]*180)/(math.pi)\n",
    "    w2,smoothed_angle_actual=rotate_image(wheel,smoothed_angle_actual,actual_deg)\n",
    "    cv2.imshow('Actual',w2)\n",
    "\n",
    "    s=\"Prediction: \"+str(pred_deg)+\" Actual: \"+str(actual_deg)+\"\\n\"\n",
    "    s=s.encode()\n",
    "    os.write(1,s)\n",
    "    \n",
    "    i+=1;\n",
    "    \n",
    "    \n",
    "    if cv2.waitKey(1) & 0xFF == ord('q'):\n",
    "        break\n",
    "    \n",
    "cv2.destroyAllWindows()"
   ]
  },
  {
   "cell_type": "code",
   "execution_count": null,
   "metadata": {
    "id": "o8VehTS8Fqvw"
   },
   "outputs": [],
   "source": []
  }
 ],
 "metadata": {
  "colab": {
   "name": "test.ipynb",
   "provenance": []
  },
  "kernelspec": {
   "display_name": "Python 3",
   "language": "python",
   "name": "python3"
  },
  "language_info": {
   "codemirror_mode": {
    "name": "ipython",
    "version": 3
   },
   "file_extension": ".py",
   "mimetype": "text/x-python",
   "name": "python",
   "nbconvert_exporter": "python",
   "pygments_lexer": "ipython3",
   "version": "3.7.3"
  }
 },
 "nbformat": 4,
 "nbformat_minor": 1
}
