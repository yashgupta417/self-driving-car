{
 "cells": [
  {
   "cell_type": "code",
   "execution_count": 1,
   "metadata": {},
   "outputs": [],
   "source": [
    "import numpy as np\n",
    "import pandas as pd"
   ]
  },
  {
   "cell_type": "code",
   "execution_count": 2,
   "metadata": {},
   "outputs": [],
   "source": [
    "X=[]\n",
    "Y=[]\n",
    "lines=[]\n",
    "\n",
    "# path='/content/drive/My Drive/Self-driving-car-dataset/'\n",
    "path='C://Users//HP//Desktop//ML//Self-Driving-Car//driving_dataset//'\n",
    "\n",
    "with open(path+'data.txt') as file:\n",
    "    lines=file.readlines()\n",
    "    \n",
    "i=0\n",
    "for line in lines:\n",
    "    if i==5000:\n",
    "        break\n",
    "    i+=1\n",
    "    w=line.split()\n",
    "    X.append(w[0])\n",
    "    Y.append(float(w[1]))"
   ]
  },
  {
   "cell_type": "code",
   "execution_count": 3,
   "metadata": {},
   "outputs": [
    {
     "data": {
      "text/plain": [
       "'C://Users//HP//Desktop//ML//Self-Driving-Car//driving_dataset//4.jpg'"
      ]
     },
     "execution_count": 3,
     "metadata": {},
     "output_type": "execute_result"
    }
   ],
   "source": [
    "for i,x in enumerate(X):\n",
    "    X[i]=path+X[i]\n",
    "    \n",
    "X[4]"
   ]
  },
  {
   "cell_type": "code",
   "execution_count": 4,
   "metadata": {},
   "outputs": [
    {
     "name": "stdout",
     "output_type": "stream",
     "text": [
      "0.024609142453120045\n"
     ]
    }
   ],
   "source": [
    "import math\n",
    "\n",
    "for i,y in enumerate(Y):\n",
    "    Y[i]=(y*math.pi)/180\n",
    "    \n",
    "print(Y[89])"
   ]
  },
  {
   "cell_type": "code",
   "execution_count": 5,
   "metadata": {},
   "outputs": [
    {
     "name": "stdout",
     "output_type": "stream",
     "text": [
      "train: 3500 3500\n",
      "val: 1500 1500\n"
     ]
    }
   ],
   "source": [
    "X_train=X[0:3500]\n",
    "X_val=X[3500:]\n",
    "Y_train=Y[0:3500]\n",
    "Y_val=Y[3500:]\n",
    "\n",
    "print(\"train:\",len(X_train),len(Y_train))\n",
    "print(\"val:\",len(X_val),len(Y_val))"
   ]
  },
  {
   "cell_type": "code",
   "execution_count": 6,
   "metadata": {},
   "outputs": [
    {
     "data": {
      "text/plain": [
       "0.6890314625042"
      ]
     },
     "execution_count": 6,
     "metadata": {},
     "output_type": "execute_result"
    }
   ],
   "source": [
    "from sklearn.metrics import mean_squared_error\n",
    "\n",
    "z=[0]*len(Y_val)\n",
    "mean_squared_error(Y_val, z)"
   ]
  },
  {
   "cell_type": "code",
   "execution_count": 7,
   "metadata": {},
   "outputs": [],
   "source": [
    "import numpy as np\n",
    "import cv2\n",
    "\n",
    "def rotate_image(img, smoothed_angle, degrees):\n",
    "    rows,cols,_ = img.shape\n",
    "    if smoothed_angle!=degrees:\n",
    "        smoothed_angle += 0.2 * pow(abs((degrees - smoothed_angle)), 2.0 / 3.0) * (degrees - smoothed_angle) / abs(degrees - smoothed_angle)\n",
    "    M = cv2.getRotationMatrix2D((cols/2,rows/2),-smoothed_angle,1)\n",
    "    dst = cv2.warpAffine(img,M,(cols,rows))\n",
    "    \n",
    "    return dst, smoothed_angle"
   ]
  },
  {
   "cell_type": "code",
   "execution_count": 8,
   "metadata": {},
   "outputs": [
    {
     "data": {
      "text/plain": [
       "(240, 240, 3)"
      ]
     },
     "execution_count": 8,
     "metadata": {},
     "output_type": "execute_result"
    }
   ],
   "source": [
    "i=0\n",
    "import os\n",
    "wheel=cv2.imread('C://Users//HP//Desktop//ML//Self-Driving-Car//wheel-4.jpg')\n",
    "smoothed_angle=0\n",
    "smoothed_angle_actual=0\n",
    "\n",
    "wheel.shape"
   ]
  },
  {
   "cell_type": "code",
   "execution_count": 9,
   "metadata": {},
   "outputs": [],
   "source": [
    "#model.save('m1.h5')\n",
    "from keras.models import load_model \n",
    "model = load_model(\"m1.h5\")"
   ]
  },
  {
   "cell_type": "code",
   "execution_count": 11,
   "metadata": {},
   "outputs": [
    {
     "ename": "IndexError",
     "evalue": "list index out of range",
     "output_type": "error",
     "traceback": [
      "\u001b[1;31m---------------------------------------------------------------------------\u001b[0m",
      "\u001b[1;31mIndexError\u001b[0m                                Traceback (most recent call last)",
      "\u001b[1;32m<ipython-input-11-d718a732bf99>\u001b[0m in \u001b[0;36m<module>\u001b[1;34m\u001b[0m\n\u001b[0;32m     10\u001b[0m     \u001b[0mcv2\u001b[0m\u001b[1;33m.\u001b[0m\u001b[0mimshow\u001b[0m\u001b[1;33m(\u001b[0m\u001b[1;34m'Prediction'\u001b[0m\u001b[1;33m,\u001b[0m\u001b[0mw\u001b[0m\u001b[1;33m)\u001b[0m\u001b[1;33m\u001b[0m\u001b[1;33m\u001b[0m\u001b[0m\n\u001b[0;32m     11\u001b[0m \u001b[1;33m\u001b[0m\u001b[0m\n\u001b[1;32m---> 12\u001b[1;33m     \u001b[0mdeg2\u001b[0m\u001b[1;33m=\u001b[0m\u001b[1;33m(\u001b[0m\u001b[0mY_train\u001b[0m\u001b[1;33m[\u001b[0m\u001b[0mi\u001b[0m\u001b[1;33m]\u001b[0m\u001b[1;33m*\u001b[0m\u001b[1;36m180\u001b[0m\u001b[1;33m)\u001b[0m\u001b[1;33m/\u001b[0m\u001b[1;33m(\u001b[0m\u001b[0mmath\u001b[0m\u001b[1;33m.\u001b[0m\u001b[0mpi\u001b[0m\u001b[1;33m)\u001b[0m\u001b[1;33m\u001b[0m\u001b[1;33m\u001b[0m\u001b[0m\n\u001b[0m\u001b[0;32m     13\u001b[0m \u001b[1;33m\u001b[0m\u001b[0m\n\u001b[0;32m     14\u001b[0m \u001b[1;31m#     s=\"Prediction: \"+str(deg)+\" Actual: \"+str(deg2)+\"\\n\"\u001b[0m\u001b[1;33m\u001b[0m\u001b[1;33m\u001b[0m\u001b[1;33m\u001b[0m\u001b[0m\n",
      "\u001b[1;31mIndexError\u001b[0m: list index out of range"
     ]
    }
   ],
   "source": [
    "\n",
    "for x in X_train:\n",
    "    img=cv2.imread(x)/255\n",
    "    cv2.imshow('frame',img)\n",
    "    \n",
    "    rad=model.predict(np.array([img]))[0][0]\n",
    "    deg=(rad*180)/(math.pi)\n",
    "    \n",
    "    w,smoothed_angle=rotate_image(wheel,smoothed_angle,deg)\n",
    "    cv2.imshow('Prediction',w)\n",
    "    \n",
    "    deg2=(Y_train[i]*180)/(math.pi)\n",
    "    \n",
    "#     s=\"Prediction: \"+str(deg)+\" Actual: \"+str(deg2)+\"\\n\"\n",
    "#     s=s.encode()\n",
    "#     os.write(1,s)\n",
    "    w2,smoothed_angle_actual=rotate_image(wheel,smoothed_angle_actual,deg2)\n",
    "    cv2.imshow('Actual',w2)\n",
    "    \n",
    "    i+=1;\n",
    "    \n",
    "    \n",
    "    if cv2.waitKey(1) & 0xFF == ord('q'):\n",
    "        break\n",
    "    \n",
    "cv2.destroyAllWindows()"
   ]
  },
  {
   "cell_type": "code",
   "execution_count": null,
   "metadata": {},
   "outputs": [],
   "source": []
  }
 ],
 "metadata": {
  "kernelspec": {
   "display_name": "Python 3",
   "language": "python",
   "name": "python3"
  },
  "language_info": {
   "codemirror_mode": {
    "name": "ipython",
    "version": 3
   },
   "file_extension": ".py",
   "mimetype": "text/x-python",
   "name": "python",
   "nbconvert_exporter": "python",
   "pygments_lexer": "ipython3",
   "version": "3.7.3"
  }
 },
 "nbformat": 4,
 "nbformat_minor": 2
}
