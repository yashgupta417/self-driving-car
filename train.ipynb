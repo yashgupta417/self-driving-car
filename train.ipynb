{
  "nbformat": 4,
  "nbformat_minor": 0,
  "metadata": {
    "kernelspec": {
      "display_name": "Python 3",
      "language": "python",
      "name": "python3"
    },
    "language_info": {
      "codemirror_mode": {
        "name": "ipython",
        "version": 3
      },
      "file_extension": ".py",
      "mimetype": "text/x-python",
      "name": "python",
      "nbconvert_exporter": "python",
      "pygments_lexer": "ipython3",
      "version": "3.7.3"
    },
    "colab": {
      "name": "train.ipynb",
      "provenance": []
    }
  },
  "cells": [
    {
      "cell_type": "code",
      "metadata": {
        "id": "f6UNLjjcW5qa"
      },
      "source": [
        "from google.colab import drive\n",
        "drive.mount('/content/drive/')"
      ],
      "execution_count": null,
      "outputs": []
    },
    {
      "cell_type": "code",
      "metadata": {
        "id": "rfID18aFW5qn"
      },
      "source": [
        "import numpy as np\n",
        "import pandas as pd\n",
        "\n",
        "##"
      ],
      "execution_count": null,
      "outputs": []
    },
    {
      "cell_type": "code",
      "metadata": {
        "id": "PbS6ayOQW5q4",
        "outputId": "135f36cc-6e0d-43bb-b54d-6950cb07a997"
      },
      "source": [
        "X=[]\n",
        "Y=[]\n",
        "lines=[]\n",
        "\n",
        "data_path='/content/drive/My Drive/Self-driving-car-dataset/'\n",
        "#path='C://Users//HP//Desktop//ML//Self-Driving-Car//driving_dataset//'\n",
        "\n",
        "images_path='/content/drive/My Drive/Self-driving-car-dataset/images/'\n",
        "#path='C://Users//HP//Desktop//ML//Self-Driving-Car//driving_dataset//'\n",
        "\n",
        "with open(data_path+'data.txt') as file:\n",
        "    lines=file.readlines()\n",
        "\n",
        "\n",
        "for line in lines:\n",
        "    w=line.split()\n",
        "    X.append(w[0])\n",
        "    Y.append(float(w[1]))\n",
        "        "
      ],
      "execution_count": null,
      "outputs": [
        {
          "output_type": "error",
          "ename": "FileNotFoundError",
          "evalue": "[Errno 2] No such file or directory: '/content/drive/My Drive/Self-driving-car-dataset/data.txt'",
          "traceback": [
            "\u001b[1;31m---------------------------------------------------------------------------\u001b[0m",
            "\u001b[1;31mFileNotFoundError\u001b[0m                         Traceback (most recent call last)",
            "\u001b[1;32m<ipython-input-1-218a07471700>\u001b[0m in \u001b[0;36m<module>\u001b[1;34m\u001b[0m\n\u001b[0;32m      9\u001b[0m \u001b[1;31m#path='C://Users//HP//Desktop//ML//Self-Driving-Car//driving_dataset//'\u001b[0m\u001b[1;33m\u001b[0m\u001b[1;33m\u001b[0m\u001b[1;33m\u001b[0m\u001b[0m\n\u001b[0;32m     10\u001b[0m \u001b[1;33m\u001b[0m\u001b[0m\n\u001b[1;32m---> 11\u001b[1;33m \u001b[1;32mwith\u001b[0m \u001b[0mopen\u001b[0m\u001b[1;33m(\u001b[0m\u001b[0mdata_path\u001b[0m\u001b[1;33m+\u001b[0m\u001b[1;34m'data.txt'\u001b[0m\u001b[1;33m)\u001b[0m \u001b[1;32mas\u001b[0m \u001b[0mfile\u001b[0m\u001b[1;33m:\u001b[0m\u001b[1;33m\u001b[0m\u001b[1;33m\u001b[0m\u001b[0m\n\u001b[0m\u001b[0;32m     12\u001b[0m     \u001b[0mlines\u001b[0m\u001b[1;33m=\u001b[0m\u001b[0mfile\u001b[0m\u001b[1;33m.\u001b[0m\u001b[0mreadlines\u001b[0m\u001b[1;33m(\u001b[0m\u001b[1;33m)\u001b[0m\u001b[1;33m\u001b[0m\u001b[1;33m\u001b[0m\u001b[0m\n\u001b[0;32m     13\u001b[0m \u001b[1;33m\u001b[0m\u001b[0m\n",
            "\u001b[1;31mFileNotFoundError\u001b[0m: [Errno 2] No such file or directory: '/content/drive/My Drive/Self-driving-car-dataset/data.txt'"
          ]
        }
      ]
    },
    {
      "cell_type": "code",
      "metadata": {
        "id": "d4IcxSDKW5rJ",
        "outputId": "a953bd39-6a67-4364-f840-28422f60ab9f"
      },
      "source": [
        "import os\n",
        "cnt=0\n",
        "for i,x in enumerate(X):\n",
        "    X[i]=images_path+X[i]\n",
        "    if os.path.isfile(X[i]):\n",
        "        cnt+=1\n",
        "    else:\n",
        "        print(x[i])\n",
        "    \n",
        "print(cnt)"
      ],
      "execution_count": null,
      "outputs": [
        {
          "output_type": "execute_result",
          "data": {
            "text/plain": [
              "'C://Users//HP//Desktop//ML//Self-Driving-Car//driving_dataset//4.jpg'"
            ]
          },
          "metadata": {
            "tags": []
          },
          "execution_count": 19
        }
      ]
    },
    {
      "cell_type": "code",
      "metadata": {
        "id": "fzUWJYLeW5rV",
        "outputId": "ab077f75-5f70-45e7-9c9b-ee816a2f9a1b"
      },
      "source": [
        "import math\n",
        "\n",
        "for i,y in enumerate(Y):\n",
        "    Y[i]=(y*math.pi)/180\n",
        "    \n",
        "print(Y[89])"
      ],
      "execution_count": null,
      "outputs": [
        {
          "output_type": "stream",
          "text": [
            "0.024609142453120045\n"
          ],
          "name": "stdout"
        }
      ]
    },
    {
      "cell_type": "code",
      "metadata": {
        "id": "aTHofi30W5rg",
        "outputId": "9cb666e8-5f66-4e54-8595-2fc38b402a8c"
      },
      "source": [
        "import matplotlib.pyplot as plt\n",
        "\n",
        "counts,bin_edges=np.histogram(Y,bins=100,density=True)\n",
        "pdf=counts/sum(counts)\n",
        "plt.plot(bin_edges[1:],pdf)\n",
        "plt.show()"
      ],
      "execution_count": null,
      "outputs": [
        {
          "output_type": "display_data",
          "data": {
            "image/png": "[encoded data removed]",
            "text/plain": [
              "<Figure size 432x288 with 1 Axes>"
            ]
          },
          "metadata": {
            "tags": [],
            "needs_background": "light"
          }
        }
      ]
    },
    {
      "cell_type": "code",
      "metadata": {
        "id": "6H458CX9W5rn"
      },
      "source": [
        "import keras\n",
        "import cv2\n",
        "\n",
        "class Generator(keras.utils.Sequence):\n",
        "    \n",
        "    def __init__(self,X,Y,batch_size):\n",
        "        self.X=X\n",
        "        self.Y=Y\n",
        "        self.batch_size=batch_size\n",
        "        \n",
        "    def __len__(self):\n",
        "        return int(np.ceil(len(self.X)/batch_size))\n",
        "    \n",
        "    def __getitem__(self,idx):\n",
        "        batch_x=self.X[idx*self.batch_size : (idx+1)*self.batch_size]\n",
        "        batch_y=self.Y[idx*self.batch_size : (idx+1)*self.batch_size]\n",
        "        \n",
        "        x_vec=[]\n",
        "        for img in batch_x:\n",
        "            x_vec.append(cv2.imread(img))\n",
        "            \n",
        "        return np.array(x_vec)/255,np.array(batch_y)"
      ],
      "execution_count": null,
      "outputs": []
    },
    {
      "cell_type": "code",
      "metadata": {
        "id": "V6GnvVKNW5r5"
      },
      "source": [
        "from keras.models import Sequential\n",
        "from keras.layers import Dense,Flatten,BatchNormalization\n",
        "from keras.layers.convolutional import Conv2D,MaxPooling2D\n",
        "\n",
        "width=256\n",
        "height=455\n",
        "channels=3\n",
        "batch_size=32\n",
        "epochs=10\n",
        "model=Sequential()\n",
        "\n",
        "#Conv Layer-1\n",
        "model.add(Conv2D(24,kernel_size=5,strides=2,input_shape=(width,height,channels),\n",
        "                 data_format='channels_last',activation='relu'))\n",
        "model.add(BatchNormalization())\n",
        "\n",
        "#Conv Layer-2\n",
        "model.add(Conv2D(36,kernel_size=5,strides=2,activation='relu'))\n",
        "model.add(BatchNormalization())\n",
        "\n",
        "#Conv Layer-3\n",
        "model.add(Conv2D(48,kernel_size=5,strides=2,activation='relu'))\n",
        "model.add(BatchNormalization())\n",
        "\n",
        "#Conv Layer-4\n",
        "model.add(Conv2D(64,kernel_size=3,activation='relu'))\n",
        "model.add(BatchNormalization())\n",
        "\n",
        "#Conv Layer-5\n",
        "model.add(Conv2D(64,kernel_size=3,activation='relu'))\n",
        "model.add(BatchNormalization())\n",
        "\n",
        "#Flattening\n",
        "model.add(Flatten())\n",
        "\n",
        "#Fully Connected Layer-1\n",
        "model.add(Dense(1164))\n",
        "\n",
        "#Fully Connected Layer-2\n",
        "model.add(Dense(200))\n",
        "\n",
        "#Fully Connected Layer-3\n",
        "model.add(Dense(50))\n",
        "\n",
        "#Fully Connected Layer-4\n",
        "model.add(Dense(10))\n",
        "\n",
        "# The Output Layer :\n",
        "model.add(Dense(1, kernel_initializer='normal',activation='linear'))\n",
        "\n"
      ],
      "execution_count": null,
      "outputs": []
    },
    {
      "cell_type": "code",
      "metadata": {
        "id": "8tG6cNKgW5r_",
        "outputId": "dc668413-9b4c-4e68-ce55-904ad80725d8"
      },
      "source": [
        "# Compile the network :\n",
        "model.compile(loss='mean_squared_error', optimizer='adam', metrics=['mean_squared_error'])\n",
        "model.summary()"
      ],
      "execution_count": null,
      "outputs": [
        {
          "output_type": "stream",
          "text": [
            "Model: \"sequential_3\"\n",
            "_________________________________________________________________\n",
            "Layer (type)                 Output Shape              Param #   \n",
            "=================================================================\n",
            "conv2d_7 (Conv2D)            (None, 126, 226, 24)      1824      \n",
            "_________________________________________________________________\n",
            "batch_normalization_6 (Batch (None, 126, 226, 24)      96        \n",
            "_________________________________________________________________\n",
            "conv2d_8 (Conv2D)            (None, 61, 111, 36)       21636     \n",
            "_________________________________________________________________\n",
            "batch_normalization_7 (Batch (None, 61, 111, 36)       144       \n",
            "_________________________________________________________________\n",
            "conv2d_9 (Conv2D)            (None, 29, 54, 48)        43248     \n",
            "_________________________________________________________________\n",
            "batch_normalization_8 (Batch (None, 29, 54, 48)        192       \n",
            "_________________________________________________________________\n",
            "conv2d_10 (Conv2D)           (None, 27, 52, 64)        27712     \n",
            "_________________________________________________________________\n",
            "batch_normalization_9 (Batch (None, 27, 52, 64)        256       \n",
            "_________________________________________________________________\n",
            "conv2d_11 (Conv2D)           (None, 25, 50, 64)        36928     \n",
            "_________________________________________________________________\n",
            "batch_normalization_10 (Batc (None, 25, 50, 64)        256       \n",
            "_________________________________________________________________\n",
            "max_pooling2d_1 (MaxPooling2 (None, 12, 25, 64)        0         \n",
            "_________________________________________________________________\n",
            "batch_normalization_11 (Batc (None, 12, 25, 64)        256       \n",
            "_________________________________________________________________\n",
            "flatten_1 (Flatten)          (None, 19200)             0         \n",
            "_________________________________________________________________\n",
            "dense_5 (Dense)              (None, 1164)              22349964  \n",
            "_________________________________________________________________\n",
            "dense_6 (Dense)              (None, 200)               233000    \n",
            "_________________________________________________________________\n",
            "dense_7 (Dense)              (None, 50)                10050     \n",
            "_________________________________________________________________\n",
            "dense_8 (Dense)              (None, 10)                510       \n",
            "_________________________________________________________________\n",
            "dense_9 (Dense)              (None, 1)                 11        \n",
            "=================================================================\n",
            "Total params: 22,726,083\n",
            "Trainable params: 22,725,483\n",
            "Non-trainable params: 600\n",
            "_________________________________________________________________\n"
          ],
          "name": "stdout"
        }
      ]
    },
    {
      "cell_type": "code",
      "metadata": {
        "id": "FR5eGRv3W5sI",
        "outputId": "4e356e12-16e9-4285-d947-bf5c44f0c775"
      },
      "source": [
        "split=int(.8*len(X))\n",
        "X_train=X[0:split]\n",
        "X_val=X[split:]\n",
        "Y_train=Y[0:split]\n",
        "Y_val=Y[split:]\n",
        "\n",
        "print(\"train:\",len(X_train),len(Y_train))\n",
        "print(\"val:\",len(X_val),len(Y_val))"
      ],
      "execution_count": null,
      "outputs": [
        {
          "output_type": "stream",
          "text": [
            "train: 8 8\n",
            "val: 2 2\n"
          ],
          "name": "stdout"
        }
      ]
    },
    {
      "cell_type": "code",
      "metadata": {
        "id": "7HZs-w2zW5sP",
        "outputId": "3a55a9f8-2f32-495b-cd98-cf4ab5b0558e"
      },
      "source": [
        "from sklearn.metrics import mean_squared_error\n",
        "\n",
        "z=[0]*len(Y_val)\n",
        "mean_squared_error(Y_val, z)"
      ],
      "execution_count": null,
      "outputs": [
        {
          "output_type": "execute_result",
          "data": {
            "text/plain": [
              "0.6890314625042"
            ]
          },
          "metadata": {
            "tags": []
          },
          "execution_count": 30
        }
      ]
    },
    {
      "cell_type": "code",
      "metadata": {
        "id": "g7GECKfPW5sY",
        "outputId": "ba8f3773-2b98-4513-f89e-c0d121f9b0e6"
      },
      "source": [
        "training_batch_generator =Generator(X_train, Y_train, batch_size)\n",
        "validation_batch_generator =Generator(X_val, Y_val, batch_size)\n",
        "\n",
        "model.fit(training_batch_generator,\n",
        "            steps_per_epoch=int(len(X_train)//batch_size),\n",
        "            epochs = epochs,\n",
        "            verbose=1,\n",
        "            workers=100,\n",
        "            validation_data=validation_batch_generator,\n",
        "            validation_steps=int(len(X_val)//batch_size))"
      ],
      "execution_count": null,
      "outputs": [
        {
          "output_type": "stream",
          "text": [
            "Epoch 1/10\n",
            "25/25 [==============================] - 207s 8s/step - loss: 102.3934 - mean_absolute_error: 102.3934 - val_loss: 2.9908 - val_mean_absolute_error: 2.9908\n",
            "Epoch 2/10\n",
            "25/25 [==============================] - 204s 8s/step - loss: 0.9069 - mean_absolute_error: 0.9069 - val_loss: 2.1242 - val_mean_absolute_error: 2.1242\n",
            "Epoch 3/10\n",
            "25/25 [==============================] - 205s 8s/step - loss: 0.8217 - mean_absolute_error: 0.8217 - val_loss: 1.9882 - val_mean_absolute_error: 1.9882\n",
            "Epoch 4/10\n",
            "25/25 [==============================] - 204s 8s/step - loss: 0.7702 - mean_absolute_error: 0.7702 - val_loss: 1.9801 - val_mean_absolute_error: 1.9801\n",
            "Epoch 5/10\n",
            "25/25 [==============================] - 204s 8s/step - loss: 0.7527 - mean_absolute_error: 0.7527 - val_loss: 1.8902 - val_mean_absolute_error: 1.8902\n",
            "Epoch 6/10\n",
            "25/25 [==============================] - 202s 8s/step - loss: 0.7723 - mean_absolute_error: 0.7723 - val_loss: 2.0307 - val_mean_absolute_error: 2.0307\n",
            "Epoch 7/10\n",
            "25/25 [==============================] - 203s 8s/step - loss: 0.7612 - mean_absolute_error: 0.7612 - val_loss: 1.9324 - val_mean_absolute_error: 1.9324\n",
            "Epoch 8/10\n",
            "25/25 [==============================] - 210s 8s/step - loss: 0.7456 - mean_absolute_error: 0.7456 - val_loss: 1.9964 - val_mean_absolute_error: 1.9964\n",
            "Epoch 9/10\n",
            "25/25 [==============================] - 246s 10s/step - loss: 0.7596 - mean_absolute_error: 0.7596 - val_loss: 1.9025 - val_mean_absolute_error: 1.9025\n",
            "Epoch 10/10\n",
            "25/25 [==============================] - 210s 8s/step - loss: 0.7360 - mean_absolute_error: 0.7360 - val_loss: 2.1145 - val_mean_absolute_error: 2.1145\n"
          ],
          "name": "stdout"
        },
        {
          "output_type": "execute_result",
          "data": {
            "text/plain": [
              "<tensorflow.python.keras.callbacks.History at 0x21005447668>"
            ]
          },
          "metadata": {
            "tags": []
          },
          "execution_count": 30
        }
      ]
    },
    {
      "cell_type": "code",
      "metadata": {
        "id": "soRYhzfWW5sh"
      },
      "source": [
        "model.save('m1.h5')\n",
        "# from keras.models import load_model \n",
        "# model = load_model(\"m1.h5\") "
      ],
      "execution_count": null,
      "outputs": []
    }
  ]
}